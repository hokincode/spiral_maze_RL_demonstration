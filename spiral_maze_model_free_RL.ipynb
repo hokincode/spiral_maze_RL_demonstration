{
 "cells": [
  {
   "cell_type": "code",
   "execution_count": 1,
   "outputs": [],
   "source": [
    "import matplotlib.pyplot as plt\n",
    "import numpy as np"
   ],
   "metadata": {
    "collapsed": false
   }
  },
  {
   "cell_type": "code",
   "execution_count": 2,
   "outputs": [],
   "source": [
    "class MazeGame:\n",
    "    def __init__(self):\n",
    "        maze_layout = [[1, 1, 1, 1, 1, 1, 1],\n",
    "               [1, 0, 0, 0, 0, 0, 1],\n",
    "               [1, 0, 1, 1, 1, 0, 1],\n",
    "               [1, 0, 1, 0, 0, 0, 1],\n",
    "               [1, 0, 1, 1, 1, 1, 1],\n",
    "               [1, 0, 0, 0, 0, 0, 0],\n",
    "               [1, 1, 1, 1, 1, 1, 1]]\n",
    "        \"\"\"Initialize the maze game with a given layout.\"\"\"\n",
    "        self.layout = np.array(maze_layout)\n",
    "        self.rgb_maze = self._to_rgb()\n",
    "        self.start_pos = None\n",
    "        self.exit_pos = None\n",
    "        self.current_pos = None\n",
    "\n",
    "    def _to_rgb(self):\n",
    "        \"\"\"Convert the maze layout to an RGB image.\"\"\"\n",
    "        rgb = np.zeros((*self.layout.shape, 3))  # Create a new RGB array\n",
    "        for i in range(3):  # Copy the grayscale values into each RGB channel\n",
    "            rgb[:, :, i] = 1 - self.layout\n",
    "        return rgb\n",
    "\n",
    "    def initialPosition(self, row, col):\n",
    "        \"\"\"Set the initial position in the maze.\"\"\"\n",
    "        if self.layout[row, col] == 0:\n",
    "            self.start_pos = (row, col)\n",
    "            self.current_pos = (row, col)\n",
    "            self.set_point(row, col, [0, 0, 1])  # Mark initial position with blue\n",
    "        else:\n",
    "            print(\"Invalid initial position: It is on a wall.\")\n",
    "\n",
    "    def setExit(self, row, col):\n",
    "        \"\"\"Set the exit position in the maze.\"\"\"\n",
    "        if self.layout[row, col] == 0:\n",
    "            self.exit_pos = (row, col)\n",
    "            self.set_point(row, col, [0, 1, 0])  # Mark exit position with green\n",
    "        else:\n",
    "            print(\"Invalid exit position: It is on a wall.\")\n",
    "\n",
    "    def set_point(self, row, col, color):\n",
    "        \"\"\"Set a specific point in the maze to a given color.\"\"\"\n",
    "        self.rgb_maze[row, col] = color\n",
    "\n",
    "    def makeMove(self, direction):\n",
    "        \"\"\"Attempt to move in the specified direction.\"\"\"\n",
    "        if self.current_pos is None:\n",
    "            print(\"Initial position not set.\")\n",
    "            return 0\n",
    "\n",
    "        row, col = self.current_pos\n",
    "        if direction == \"up\":\n",
    "            new_pos = (row - 1, col)\n",
    "        elif direction == \"down\":\n",
    "            new_pos = (row + 1, col)\n",
    "        elif direction == \"left\":\n",
    "            new_pos = (row, col - 1)\n",
    "        elif direction == \"right\":\n",
    "            new_pos = (row, col + 1)\n",
    "        else:\n",
    "            print(\"Invalid direction.\")\n",
    "            return 0\n",
    "\n",
    "        if self.isValidMove(new_pos):\n",
    "            self.current_pos = new_pos\n",
    "            self.set_point(*self.start_pos, [1 - self.layout[self.start_pos]])  # Reset start position color\n",
    "            self.start_pos = new_pos\n",
    "            self.set_point(*new_pos, [0, 0, 1])  # Mark new position with blue\n",
    "            if self.current_pos == self.exit_pos:\n",
    "                # print(\"Success! You've found the way out.\")\n",
    "                return 1\n",
    "        # else:\n",
    "        #    print(\"Invalid move: Can't move through walls or out of bounds.\")\n",
    "\n",
    "    def isValidMove(self, pos):\n",
    "        \"\"\"Check if a move is valid (within bounds and not through walls).\"\"\"\n",
    "        row, col = pos\n",
    "        if 0 <= row < self.layout.shape[0] and 0 <= col < self.layout.shape[1]:\n",
    "            return self.layout[row, col] == 0\n",
    "        return False\n",
    "\n",
    "    def plot(self):\n",
    "        \"\"\"Plot the maze.\"\"\"\n",
    "        plt.figure(figsize=(7, 7))\n",
    "        plt.imshow(self.rgb_maze, interpolation='nearest')\n",
    "        plt.xticks([]), plt.yticks([])  # Hide axes ticks\n",
    "        plt.show()"
   ],
   "metadata": {
    "collapsed": false
   }
  },
  {
   "cell_type": "code",
   "execution_count": 3,
   "outputs": [
    {
     "data": {
      "text/plain": "<Figure size 700x700 with 1 Axes>",
      "image/png": "[encoded data removed]"
     },
     "metadata": {},
     "output_type": "display_data"
    }
   ],
   "source": [
    "# Create an instance of MazeGame\n",
    "maze_game = MazeGame()\n",
    "\n",
    "# Set the initial and exit positions\n",
    "maze_game.initialPosition(3, 3)\n",
    "maze_game.setExit(5, 6)\n",
    "maze_game.plot()"
   ],
   "metadata": {
    "collapsed": false
   }
  },
  {
   "cell_type": "markdown",
   "source": [
    "Model-free RL agent"
   ],
   "metadata": {
    "collapsed": false
   }
  },
  {
   "cell_type": "code",
   "execution_count": 4,
   "outputs": [],
   "source": [
    "import random\n",
    "\n",
    "class QLearningAgent:\n",
    "    def __init__(self, game, alpha=0.1, gamma=0.99, epsilon=0.1):\n",
    "        self.game = game\n",
    "        self.q_table = np.zeros((game.layout.size, 4))  # 4 actions: up, down, left, right\n",
    "        print('At initialization, the Q table is given as,')\n",
    "        self.alpha = alpha\n",
    "        self.gamma = gamma\n",
    "        self.epsilon = epsilon\n",
    "        self.actions = ['up', 'down', 'left', 'right']\n",
    "\n",
    "    def state_to_index(self, state):\n",
    "        \"\"\"Converts a 2D state to a 1D index for the Q-table.\"\"\"\n",
    "        return state[0] * self.game.layout.shape[1] + state[1]\n",
    "\n",
    "    def choose_action(self, state_index):\n",
    "        \"\"\"Choose action based on ε-greedy policy.\"\"\"\n",
    "        if random.uniform(0, 1) < self.epsilon:\n",
    "            return random.choice(self.actions)  # Explore\n",
    "        else:\n",
    "            return self.actions[np.argmax(self.q_table[state_index])]  # Exploit\n",
    "\n",
    "    def learn(self, state, action, reward, next_state):\n",
    "        \"\"\"Update the Q-value using the Q-learning formula.\"\"\"\n",
    "        state_index = self.state_to_index(state)\n",
    "        next_state_index = self.state_to_index(next_state)\n",
    "        action_index = self.actions.index(action)\n",
    "        next_max = np.max(self.q_table[next_state_index])\n",
    "\n",
    "        # Q-learning formula\n",
    "        self.q_table[state_index, action_index] = self.q_table[state_index, action_index] + \\\n",
    "            self.alpha * (reward + self.gamma * next_max - self.q_table[state_index, action_index])\n",
    "\n",
    "    def train(self, episodes=1000):\n",
    "        for episode in range(episodes):\n",
    "            self.game.initialPosition(3, 3)  # Reset to starting position\n",
    "            state = self.game.current_pos\n",
    "            steps = 0\n",
    "            while not self.game.makeMove(self.choose_action(self.state_to_index(state))) and steps < 50:\n",
    "                # Select and perform an action\n",
    "                action = self.choose_action(self.state_to_index(state))\n",
    "                old_state = state\n",
    "                success = self.game.makeMove(action)\n",
    "                state = self.game.current_pos\n",
    "                reward = 1 if success else -1  # Simple reward: -1 for each step, +1 for reaching the goal\n",
    "                # Learn from the transition\n",
    "                self.learn(old_state, action, reward, state)\n",
    "                steps += 1\n",
    "            if episode % 100 == 0:\n",
    "                print(f\"Episode {episode}: completed in {steps} steps.\")"
   ],
   "metadata": {
    "collapsed": false
   }
  },
  {
   "cell_type": "markdown",
   "source": [
    "Train Agent"
   ],
   "metadata": {
    "collapsed": false
   }
  },
  {
   "cell_type": "code",
   "execution_count": 5,
   "outputs": [
    {
     "name": "stdout",
     "output_type": "stream",
     "text": [
      "Episode 0: completed in 50 steps.\n"
     ]
    }
   ],
   "source": [
    "agent = QLearningAgent(maze_game)\n",
    "agent.train(10)"
   ],
   "metadata": {
    "collapsed": false
   }
  },
  {
   "cell_type": "markdown",
   "source": [
    "Test Agent"
   ],
   "metadata": {
    "collapsed": false
   }
  },
  {
   "cell_type": "code",
   "execution_count": 7,
   "outputs": [
    {
     "name": "stdout",
     "output_type": "stream",
     "text": [
      "Starting test from position: (3, 3)\n",
      "Step 1: Moved up, New position: (3, 3)\n",
      "Step 2: Moved up, New position: (3, 3)\n",
      "Step 3: Moved up, New position: (3, 3)\n",
      "Step 4: Moved up, New position: (3, 3)\n",
      "Step 5: Moved up, New position: (3, 3)\n",
      "Step 6: Moved up, New position: (3, 3)\n",
      "Step 7: Moved up, New position: (3, 3)\n",
      "Step 8: Moved up, New position: (3, 3)\n",
      "Step 9: Moved up, New position: (3, 3)\n",
      "Step 10: Moved up, New position: (3, 3)\n",
      "Step 11: Moved up, New position: (3, 3)\n",
      "Step 12: Moved up, New position: (3, 3)\n",
      "Step 13: Moved up, New position: (3, 3)\n",
      "Step 14: Moved up, New position: (3, 3)\n",
      "Step 15: Moved up, New position: (3, 3)\n",
      "Step 16: Moved up, New position: (3, 3)\n",
      "Step 17: Moved up, New position: (3, 3)\n",
      "Step 18: Moved up, New position: (3, 3)\n",
      "Step 19: Moved up, New position: (3, 3)\n",
      "Step 20: Moved up, New position: (3, 3)\n",
      "Step 21: Moved up, New position: (3, 3)\n",
      "Step 22: Moved up, New position: (3, 3)\n",
      "Step 23: Moved up, New position: (3, 3)\n",
      "Step 24: Moved up, New position: (3, 3)\n",
      "Step 25: Moved up, New position: (3, 3)\n",
      "Step 26: Moved up, New position: (3, 3)\n",
      "Step 27: Moved up, New position: (3, 3)\n",
      "Step 28: Moved up, New position: (3, 3)\n",
      "Step 29: Moved up, New position: (3, 3)\n",
      "Step 30: Moved up, New position: (3, 3)\n",
      "Step 31: Moved up, New position: (3, 3)\n",
      "Step 32: Moved up, New position: (3, 3)\n",
      "Step 33: Moved up, New position: (3, 3)\n",
      "Step 34: Moved up, New position: (3, 3)\n",
      "Step 35: Moved up, New position: (3, 3)\n",
      "Step 36: Moved up, New position: (3, 3)\n",
      "Step 37: Moved up, New position: (3, 3)\n",
      "Step 38: Moved up, New position: (3, 3)\n",
      "Step 39: Moved up, New position: (3, 3)\n",
      "Step 40: Moved up, New position: (3, 3)\n",
      "Step 41: Moved up, New position: (3, 3)\n",
      "Step 42: Moved up, New position: (3, 3)\n",
      "Step 43: Moved up, New position: (3, 3)\n",
      "Step 44: Moved up, New position: (3, 3)\n",
      "Step 45: Moved up, New position: (3, 3)\n",
      "Step 46: Moved up, New position: (3, 3)\n",
      "Step 47: Moved up, New position: (3, 3)\n",
      "Step 48: Moved up, New position: (3, 3)\n",
      "Step 49: Moved up, New position: (3, 3)\n",
      "Step 50: Moved up, New position: (3, 3)\n",
      "Failed to find the way out within the maximum allowed steps.\n"
     ]
    },
    {
     "data": {
      "text/plain": "<Figure size 700x700 with 1 Axes>",
      "image/png": "[encoded data removed]"
     },
     "metadata": {},
     "output_type": "display_data"
    }
   ],
   "source": [
    "def test_agent(agent, game, max_steps=50):\n",
    "    game.initialPosition(3, 3)  # Reset to starting position\n",
    "    state = game.current_pos\n",
    "    steps = 0\n",
    "    success = False\n",
    "    # Display the initial state of the maze\n",
    "    # game.plot()\n",
    "    print(f\"Starting test from position: {state}\")\n",
    "    while not success and steps < max_steps:\n",
    "        state_index = agent.state_to_index(state)\n",
    "        action = agent.actions[np.argmax(agent.q_table[state_index])]  # Choose best action\n",
    "        success = game.makeMove(action)  # Perform the action\n",
    "        state = game.current_pos  # Update state\n",
    "        steps += 1\n",
    "        print(f\"Step {steps}: Moved {action}, New position: {state}\")\n",
    "    if success:\n",
    "        print(\"Success! The agent found the way out.\")\n",
    "    else:\n",
    "        print(\"Failed to find the way out within the maximum allowed steps.\")\n",
    "\n",
    "    # Display the final state of the maze\n",
    "    game.plot()\n",
    "# Now, let's test the trained agent.\n",
    "test_agent(agent, maze_game)"
   ],
   "metadata": {
    "collapsed": false
   }
  },
  {
   "cell_type": "code",
   "execution_count": null,
   "outputs": [],
   "source": [],
   "metadata": {
    "collapsed": false
   }
  }
 ],
 "metadata": {
  "kernelspec": {
   "display_name": "Python 3",
   "language": "python",
   "name": "python3"
  },
  "language_info": {
   "codemirror_mode": {
    "name": "ipython",
    "version": 2
   },
   "file_extension": ".py",
   "mimetype": "text/x-python",
   "name": "python",
   "nbconvert_exporter": "python",
   "pygments_lexer": "ipython2",
   "version": "2.7.6"
  }
 },
 "nbformat": 4,
 "nbformat_minor": 0
}
