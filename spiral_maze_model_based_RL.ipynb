{
 "cells": [
  {
   "cell_type": "code",
   "execution_count": 1,
   "metadata": {
    "collapsed": true
   },
   "outputs": [],
   "source": [
    "import matplotlib.pyplot as plt\n",
    "import numpy as np"
   ]
  },
  {
   "cell_type": "code",
   "execution_count": 2,
   "outputs": [],
   "source": [
    "class MazeGame:\n",
    "    def __init__(self):\n",
    "        maze_layout = [[1, 1, 1, 1, 1, 1, 1],\n",
    "               [1, 0, 0, 0, 0, 0, 1],\n",
    "               [1, 0, 1, 1, 1, 0, 1],\n",
    "               [1, 0, 1, 0, 0, 0, 1],\n",
    "               [1, 0, 1, 1, 1, 1, 1],\n",
    "               [1, 0, 0, 0, 0, 0, 0],\n",
    "               [1, 1, 1, 1, 1, 1, 1]]\n",
    "        \"\"\"Initialize the maze game with a given layout.\"\"\"\n",
    "        self.layout = np.array(maze_layout)\n",
    "        self.rgb_maze = self._to_rgb()\n",
    "        self.start_pos = None\n",
    "        self.exit_pos = None\n",
    "        self.current_pos = None\n",
    "\n",
    "    def _to_rgb(self):\n",
    "        \"\"\"Convert the maze layout to an RGB image.\"\"\"\n",
    "        rgb = np.zeros((*self.layout.shape, 3))  # Create a new RGB array\n",
    "        for i in range(3):  # Copy the grayscale values into each RGB channel\n",
    "            rgb[:, :, i] = 1 - self.layout\n",
    "        return rgb\n",
    "\n",
    "    def initialPosition(self, row, col):\n",
    "        \"\"\"Set the initial position in the maze.\"\"\"\n",
    "        if self.layout[row, col] == 0:\n",
    "            self.start_pos = (row, col)\n",
    "            self.current_pos = (row, col)\n",
    "            self.set_point(row, col, [0, 0, 1])  # Mark initial position with blue\n",
    "        else:\n",
    "            print(\"Invalid initial position: It is on a wall.\")\n",
    "\n",
    "    def setExit(self, row, col):\n",
    "        \"\"\"Set the exit position in the maze.\"\"\"\n",
    "        if self.layout[row, col] == 0:\n",
    "            self.exit_pos = (row, col)\n",
    "            self.set_point(row, col, [0, 1, 0])  # Mark exit position with green\n",
    "        else:\n",
    "            print(\"Invalid exit position: It is on a wall.\")\n",
    "\n",
    "    def set_point(self, row, col, color):\n",
    "        \"\"\"Set a specific point in the maze to a given color.\"\"\"\n",
    "        self.rgb_maze[row, col] = color\n",
    "\n",
    "    def makeMove(self, direction):\n",
    "        \"\"\"Attempt to move in the specified direction.\"\"\"\n",
    "        if self.current_pos is None:\n",
    "            print(\"Initial position not set.\")\n",
    "            return 0\n",
    "\n",
    "        row, col = self.current_pos\n",
    "        if direction == \"up\":\n",
    "            new_pos = (row - 1, col)\n",
    "        elif direction == \"down\":\n",
    "            new_pos = (row + 1, col)\n",
    "        elif direction == \"left\":\n",
    "            new_pos = (row, col - 1)\n",
    "        elif direction == \"right\":\n",
    "            new_pos = (row, col + 1)\n",
    "        else:\n",
    "            print(\"Invalid direction.\")\n",
    "            return 0\n",
    "\n",
    "        if self.isValidMove(new_pos):\n",
    "            self.current_pos = new_pos\n",
    "            self.set_point(*self.start_pos, [1 - self.layout[self.start_pos]])  # Reset start position color\n",
    "            self.start_pos = new_pos\n",
    "            self.set_point(*new_pos, [0, 0, 1])  # Mark new position with blue\n",
    "            if self.current_pos == self.exit_pos:\n",
    "                # print(\"Success! You've found the way out.\")\n",
    "                return 1\n",
    "        # else:\n",
    "        #    print(\"Invalid move: Can't move through walls or out of bounds.\")\n",
    "\n",
    "    def isValidMove(self, pos):\n",
    "        \"\"\"Check if a move is valid (within bounds and not through walls).\"\"\"\n",
    "        row, col = pos\n",
    "        if 0 <= row < self.layout.shape[0] and 0 <= col < self.layout.shape[1]:\n",
    "            return self.layout[row, col] == 0\n",
    "        return False\n",
    "\n",
    "    def plot(self):\n",
    "        \"\"\"Plot the maze.\"\"\"\n",
    "        plt.figure(figsize=(7, 7))\n",
    "        plt.imshow(self.rgb_maze, interpolation='nearest')\n",
    "        plt.xticks([]), plt.yticks([])  # Hide axes ticks\n",
    "        plt.show()"
   ],
   "metadata": {
    "collapsed": false
   }
  },
  {
   "cell_type": "code",
   "execution_count": null,
   "outputs": [],
   "source": [
    "# Create an instance of MazeGame\n",
    "maze_game = MazeGame()\n",
    "\n",
    "# Set the initial and exit positions\n",
    "maze_game.initialPosition(3, 3)\n",
    "maze_game.setExit(5, 6)\n",
    "maze_game.plot()"
   ],
   "metadata": {
    "collapsed": false
   }
  },
  {
   "cell_type": "markdown",
   "source": [
    "Model-based RL agent"
   ],
   "metadata": {
    "collapsed": false
   }
  },
  {
   "cell_type": "code",
   "execution_count": null,
   "outputs": [],
   "source": [
    "class ModelBasedAgent:\n",
    "    def __init__(self, game, gamma=0.99):\n",
    "        print('At initialization, the map is given as', game.layout.shape)\n",
    "        self.game = game\n",
    "        self.gamma = gamma  # Discount factor\n",
    "        self.values = np.zeros(game.layout.shape)\n",
    "        print('At initialization, the value matrix is given as,', self.values)\n",
    "        self.policy = np.full(game.layout.shape, 'hold', dtype=object)\n",
    "        print('At initialization, the policy matrix is given as,', self.policy)\n",
    "        self.actions = ['up', 'down', 'left', 'right']\n",
    "\n",
    "    # Bellman optimization to find the optimal action trajectory.\n",
    "    def find_the_optimal_trajectory_simulation(self, iterations=100):\n",
    "        for _ in range(iterations):\n",
    "            new_values = np.copy(self.values)\n",
    "            for row in range(self.game.layout.shape[0]):\n",
    "                for col in range(self.game.layout.shape[1]):\n",
    "                    if self.game.layout[row, col] == 0:  # Only update for navigable cells\n",
    "                        state_value = []\n",
    "                        for action in self.actions:\n",
    "                            new_pos = self.predict_move((row, col), action)\n",
    "                            reward = self.predict_reward((row, col), new_pos)\n",
    "                            state_value.append(reward + self.gamma * self.values[new_pos])\n",
    "                        best_action_value = max(state_value)\n",
    "                        new_values[row, col] = best_action_value\n",
    "                        self.policy[row, col] = self.actions[state_value.index(best_action_value)]\n",
    "                        print('The action trajectory is updated to the following,')\n",
    "            self.values = new_values\n",
    "\n",
    "    def predict_move(self, pos, action):\n",
    "        if action == \"up\":\n",
    "            new_pos = (max(0, pos[0]-1), pos[1])\n",
    "        elif action == \"down\":\n",
    "            new_pos = (min(self.game.layout.shape[0]-1, pos[0]+1), pos[1])\n",
    "        elif action == \"left\":\n",
    "            new_pos = (pos[0], max(0, pos[1]-1))\n",
    "        elif action == \"right\":\n",
    "            new_pos = (pos[0], min(self.game.layout.shape[1]-1, pos[1]+1))\n",
    "        return new_pos if self.game.layout[new_pos] == 0 else pos\n",
    "\n",
    "    def predict_reward(self, pos, new_pos):\n",
    "        if new_pos == self.game.exit_pos:\n",
    "            return 100  # Large reward for reaching the exit\n",
    "        elif new_pos == pos:\n",
    "            return -5  # Penalty for hitting a wall\n",
    "        else:\n",
    "            return -1  # Small penalty for each move to encourage shortest path\n",
    "\n",
    "    def run_policy(self):\n",
    "        print(\"Running policy...\")\n",
    "        current_pos = self.game.current_pos\n",
    "        steps = 0\n",
    "        while current_pos != self.game.exit_pos:\n",
    "            action = self.policy[current_pos]\n",
    "            print(f\"Step {steps}: at {current_pos} taking action {action}\")\n",
    "            self.game.makeMove(action)\n",
    "            current_pos = self.game.current_pos\n",
    "            steps += 1\n",
    "            if steps > 50:  # Just in case something goes wrong\n",
    "                print(\"Something went wrong. Stopping after 50 steps.\")\n",
    "                break\n",
    "\n",
    "    def update_game(self, new_game):\n",
    "        self.game = new_game"
   ],
   "metadata": {
    "collapsed": false
   }
  },
  {
   "cell_type": "markdown",
   "source": [
    "Simulation Run"
   ],
   "metadata": {
    "collapsed": false
   }
  },
  {
   "cell_type": "markdown",
   "source": [],
   "metadata": {
    "collapsed": false
   }
  }
 ],
 "metadata": {
  "kernelspec": {
   "display_name": "Python 3",
   "language": "python",
   "name": "python3"
  },
  "language_info": {
   "codemirror_mode": {
    "name": "ipython",
    "version": 2
   },
   "file_extension": ".py",
   "mimetype": "text/x-python",
   "name": "python",
   "nbconvert_exporter": "python",
   "pygments_lexer": "ipython2",
   "version": "2.7.6"
  }
 },
 "nbformat": 4,
 "nbformat_minor": 0
}
